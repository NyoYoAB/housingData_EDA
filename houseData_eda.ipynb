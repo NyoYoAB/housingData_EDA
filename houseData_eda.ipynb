{
  "cells": [
    {
      "cell_type": "markdown",
      "metadata": {
        "id": "NKqpnG1PwmAa"
      },
      "source": [
        "# **<font size=\"12\">Housing DATA PROJECT**</font>\n",
        "Hey, welcome in our first data project. <br><br>\n",
        "<font size=\"5\">**Project Description:** </font>\n",
        "<br>\n",
        "In this project, we will be cleaning up the housing data and performing EDA before pushing it to the Model Team.\n"
      ]
    },
    {
      "cell_type": "markdown",
      "metadata": {},
      "source": [
        "<font size=\"5\">**Setting up the project:** </font>\n"
      ]
    },
    {
      "cell_type": "code",
      "execution_count": 1,
      "metadata": {},
      "outputs": [],
      "source": [
        "# Import Liabraries:\n",
        "import numpy as np\n",
        "import pandas as pd\n",
        "import matplotlib.pyplot as plt\n",
        "import seaborn as sns\n",
        "\n",
        "# Import Data:\n",
        "house_df = pd.read_csv(\"raw_house_data.csv\")"
      ]
    }
  ],
  "metadata": {
    "colab": {
      "provenance": []
    },
    "kernelspec": {
      "display_name": "Python 3",
      "name": "python3"
    },
    "language_info": {
      "codemirror_mode": {
        "name": "ipython",
        "version": 3
      },
      "file_extension": ".py",
      "mimetype": "text/x-python",
      "name": "python",
      "nbconvert_exporter": "python",
      "pygments_lexer": "ipython3",
      "version": "3.12.5"
    }
  },
  "nbformat": 4,
  "nbformat_minor": 0
}
