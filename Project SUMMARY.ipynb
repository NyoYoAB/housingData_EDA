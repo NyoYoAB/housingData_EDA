{
 "cells": [
  {
   "cell_type": "markdown",
   "metadata": {},
   "source": [
    "# Data Transformation and Cleaning Summary"
   ]
  },
  {
   "cell_type": "markdown",
   "metadata": {},
   "source": [
    "## Summary of Data Transformations"
   ]
  },
  {
   "cell_type": "markdown",
   "metadata": {},
   "source": [
    "\n",
    "1. **Column Renaming**:\n",
    "   - The columns were renamed for better readability and consistency:\n",
    "     - `MLS` was renamed to `mls`.\n",
    "     - `sold_price` was renamed to `price`.\n",
    "     - `HOA` was renamed to `hoa`.\n",
    "\n",
    "2. **Handling Missing Values**:\n",
    "   - **Visualization**: A heatmap was generated to visualize missing values in the dataset.\n",
    "   - **Check for Column Removal**: Columns with more than 90% missing values should be removed from the dataset. In our case, all the columns satisfied this threshold, so no column was removed.\n",
    "   - **Imputation**:\n",
    "     - Numeric columns were filled with the median value\n",
    "     - Categorical columns were filled with the mode (most frequent value).\n",
    "\n",
    "3. **Feature Engineering**:\n",
    "   - A new column `num_kit_features` was created, representing the number of kitchen features by splitting the `kitchen_features` column and counting the items.\n",
    "\n",
    "4. **Data Type Conversions**:\n",
    "   - Converted `fireplaces` and `hoa` columns from `object` to `int`, with missing or invalid values coerced and filled with zeros.\n",
    "   - Converted `bathrooms` and `garage` columns from `float` to `int` to ensure consistency.\n",
    "\n",
    "5. **Data Visualization**:\n",
    "   - Histograms were plotted for numeric columns to visualize their distribution after data cleaning.\n",
    "        "
   ]
  },
  {
   "cell_type": "markdown",
   "metadata": {},
   "source": [
    "## Comparison of Dataset Before and After Changes"
   ]
  },
  {
   "cell_type": "markdown",
   "metadata": {},
   "source": [
    "\n",
    "| Transformation | Before (Original Dataset) | After (Transformed Dataset) |\n",
    "|----------------|---------------------------|-----------------------------|\n",
    "| **Column Names** | `MLS`, `sold_price`, `HOA` | `mls`, `price`, `hoa` |\n",
    "| **Missing Values Handling** | Several columns with missing values | all column are kept as no column with more than 90% missing values |\n",
    "| **New Feature** | No `num_kit_features` column | `num_kit_features` column added |\n",
    "| **Data Types** | `fireplaces`, `hoa`, `bathrooms`, `garage` as mixed types | All above columns converted to `int` |   \n",
    "| **Number of features** | 16 | 17 |        \n",
    "| **Number of observations(raws)** | 5000 | 4605 |        "
   ]
  },
  {
   "cell_type": "markdown",
   "metadata": {},
   "source": [
    "## Detailed Explanation"
   ]
  },
  {
   "cell_type": "markdown",
   "metadata": {},
   "source": [
    "\n",
    "1. **Column Renaming**:\n",
    "   - Renaming columns is a best practice to improve code readability and maintainability. By renaming `MLS` to `mls`, `sold_price` to `price`, and `HOA` to `hoa`, you made it easier to understand and reference these columns in further analysis.\n",
    "\n",
    "2. **Handling Missing Values**:\n",
    "   - **Threshold-Based Removal**: No column with more than 90% missing values -> check OK, no column was removed.\n",
    "   - **Imputation**: Filling missing values with the median for numeric columns ensures that outliers do not overly influence the data, while using the mode for categorical columns helps preserve the most common categories:\n",
    "   - 10 missing values in `lot_acres` --> corrected with median\n",
    "   - 6 missing values in `bathroom` --> corrected with median\n",
    "   - 56 missing values in `sqrt_ft` --> corrected with median\n",
    "   - 7 missing values in `garage` --> corrected with median\n",
    "   - 33 missing values in `kitchen_features` --> corrected with mode\n",
    "   - 1 missing values in `floor_covering` --> corrected with mode\n",
    "   - 562 missing values in `hoa` --> corrected with median\n",
    "\n",
    "3. **Feature Engineering**:\n",
    "   - Creating the `num_kit_features` column from the `kitchen_features`. This new feature can be valuable in predicting the price of a house.\n",
    "\n",
    "4. **Data Type Conversions**:\n",
    "   - Ensuring that data types are consistent (e.g., converting `fireplaces`, `hoa`, `bathrooms`, and `garage` to integers)\n",
    "\n",
    "5. **Initial Data Visualization**:\n",
    "   - Visualizing data distributions after cleanup to ensure that all data issues are solved and check if potential issues such as outliers.\n",
    "\n",
    "6. **Handling outliers**:\n",
    "   - Since we have a right-skewed distribution: The distribution is not symmetric and is skewed to the right, it indicates that the data is not normally distributed. So we will use IQR method to handle the outliers instead of the zscore method\n",
    "   - Final dataset shape: `4606 * 17`\n",
    "7. **Final Data Visualization**:\n",
    "   - Final check to ensure everything is OK and dataset is well cleaned before submitting the dataset to the Modeling team.\n",
    "\n",
    "**Younes ABAROUDI**, 31/08/2024"
   ]
  }
 ],
 "metadata": {
  "language_info": {
   "name": "python"
  }
 },
 "nbformat": 4,
 "nbformat_minor": 2
}
